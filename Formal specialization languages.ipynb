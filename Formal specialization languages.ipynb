{
  "nbformat": 4,
  "nbformat_minor": 0,
  "metadata": {
    "colab": {
      "provenance": [],
      "toc_visible": true,
      "include_colab_link": true
    },
    "kernelspec": {
      "name": "python3",
      "display_name": "Python 3"
    },
    "language_info": {
      "name": "python"
    }
  },
  "cells": [
    {
      "cell_type": "markdown",
      "metadata": {
        "id": "view-in-github",
        "colab_type": "text"
      },
      "source": [
        "<a href=\"https://colab.research.google.com/github/Sikander700/Assignments/blob/main/Formal%20specialization%20languages.ipynb\" target=\"_parent\"><img src=\"https://colab.research.google.com/assets/colab-badge.svg\" alt=\"Open In Colab\"/></a>"
      ]
    },
    {
      "cell_type": "code",
      "execution_count": 1,
      "metadata": {
        "colab": {
          "base_uri": "https://localhost:8080/"
        },
        "id": "51zyueYKdiMj",
        "outputId": "945703e3-98f6-4cdc-e783-138cd65c42f2"
      },
      "outputs": [
        {
          "output_type": "stream",
          "name": "stdout",
          "text": [
            "All users have secure passwords.\n",
            "The system is fast AND reliable.\n",
            "user1 can log in with a password OR biometric.\n",
            "user2 cannot log in.\n",
            "user3 can log in with a password OR biometric.\n"
          ]
        }
      ],
      "source": [
        "class User:\n",
        "    def __init__(self, username, password, biometric):\n",
        "        self.username = username\n",
        "        self.password = password\n",
        "        self.biometric = biometric\n",
        "\n",
        "# Sample users\n",
        "users = [\n",
        "    User(\"user1\", \"securepassword123\", \"thumbprint\"),\n",
        "    User(\"user2\", \"mypassword456\", \"none\"),\n",
        "    User(\"user3\", \"simplepassword\", \"facialrecognition\")\n",
        "]\n",
        "\n",
        "def check_system_requirements(users):\n",
        "    # Check if all users have secure passwords (∀)\n",
        "    for user in users:\n",
        "        assert len(user.password) >= 8, f\"Password for {user.username} must be secure!\"\n",
        "\n",
        "    print(\"All users have secure passwords.\")\n",
        "\n",
        "    # Check if the system is fast and reliable (∧)\n",
        "    is_fast = True\n",
        "    is_reliable = True\n",
        "    if is_fast and is_reliable:\n",
        "        print(\"The system is fast AND reliable.\")\n",
        "    else:\n",
        "        print(\"The system is NOT fast AND reliable.\")\n",
        "\n",
        "    # Check if users can log in with either password OR biometric (∨)\n",
        "    for user in users:\n",
        "        if user.password == \"securepassword123\" or user.biometric != \"none\":\n",
        "            print(f\"{user.username} can log in with a password OR biometric.\")\n",
        "        else:\n",
        "            print(f\"{user.username} cannot log in.\")\n",
        "\n",
        "# Run the checks\n",
        "check_system_requirements(users)\n"
      ]
    }
  ]
}